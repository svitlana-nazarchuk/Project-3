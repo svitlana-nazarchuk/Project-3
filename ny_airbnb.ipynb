{
 "cells": [
  {
   "cell_type": "code",
   "execution_count": 34,
   "metadata": {},
   "outputs": [],
   "source": [
    "import warnings\n",
    "warnings.simplefilter(action='ignore', category=FutureWarning)\n",
    "\n",
    "import pandas as pd\n",
    "import numpy as np\n",
    "\n",
    "import matplotlib.pyplot as plt\n",
    "import seaborn as sns \n",
    "\n",
    "from sklearn.model_selection import train_test_split\n",
    "from sklearn import metrics\n",
    "from sklearn.linear_model import LinearRegression\n",
    "from lightgbm import LGBMRegressor"
   ]
  },
  {
   "cell_type": "code",
   "execution_count": 2,
   "metadata": {},
   "outputs": [
    {
     "data": {
      "text/html": [
       "<div>\n",
       "<style scoped>\n",
       "    .dataframe tbody tr th:only-of-type {\n",
       "        vertical-align: middle;\n",
       "    }\n",
       "\n",
       "    .dataframe tbody tr th {\n",
       "        vertical-align: top;\n",
       "    }\n",
       "\n",
       "    .dataframe thead th {\n",
       "        text-align: right;\n",
       "    }\n",
       "</style>\n",
       "<table border=\"1\" class=\"dataframe\">\n",
       "  <thead>\n",
       "    <tr style=\"text-align: right;\">\n",
       "      <th></th>\n",
       "      <th>id</th>\n",
       "      <th>listing_url</th>\n",
       "      <th>scrape_id</th>\n",
       "      <th>last_scraped</th>\n",
       "      <th>name</th>\n",
       "      <th>summary</th>\n",
       "      <th>space</th>\n",
       "      <th>description</th>\n",
       "      <th>experiences_offered</th>\n",
       "      <th>neighborhood_overview</th>\n",
       "      <th>...</th>\n",
       "      <th>instant_bookable</th>\n",
       "      <th>is_business_travel_ready</th>\n",
       "      <th>cancellation_policy</th>\n",
       "      <th>require_guest_profile_picture</th>\n",
       "      <th>require_guest_phone_verification</th>\n",
       "      <th>calculated_host_listings_count</th>\n",
       "      <th>calculated_host_listings_count_entire_homes</th>\n",
       "      <th>calculated_host_listings_count_private_rooms</th>\n",
       "      <th>calculated_host_listings_count_shared_rooms</th>\n",
       "      <th>reviews_per_month</th>\n",
       "    </tr>\n",
       "  </thead>\n",
       "  <tbody>\n",
       "    <tr>\n",
       "      <th>0</th>\n",
       "      <td>2060</td>\n",
       "      <td>https://www.airbnb.com/rooms/2060</td>\n",
       "      <td>20200408162728</td>\n",
       "      <td>2020-04-09</td>\n",
       "      <td>Modern NYC</td>\n",
       "      <td>NaN</td>\n",
       "      <td>Lovely, spacious, sunny 1 BR apartment in 6th ...</td>\n",
       "      <td>Lovely, spacious, sunny 1 BR apartment in 6th ...</td>\n",
       "      <td>none</td>\n",
       "      <td>NaN</td>\n",
       "      <td>...</td>\n",
       "      <td>f</td>\n",
       "      <td>f</td>\n",
       "      <td>flexible</td>\n",
       "      <td>f</td>\n",
       "      <td>f</td>\n",
       "      <td>1</td>\n",
       "      <td>0</td>\n",
       "      <td>1</td>\n",
       "      <td>0</td>\n",
       "      <td>0.01</td>\n",
       "    </tr>\n",
       "    <tr>\n",
       "      <th>1</th>\n",
       "      <td>2595</td>\n",
       "      <td>https://www.airbnb.com/rooms/2595</td>\n",
       "      <td>20200408162728</td>\n",
       "      <td>2020-04-10</td>\n",
       "      <td>Skylit Midtown Castle</td>\n",
       "      <td>Beautiful, spacious skylit studio in the heart...</td>\n",
       "      <td>- Spacious (500+ft²), immaculate and nicely fu...</td>\n",
       "      <td>Beautiful, spacious skylit studio in the heart...</td>\n",
       "      <td>none</td>\n",
       "      <td>Centrally located in the heart of Manhattan ju...</td>\n",
       "      <td>...</td>\n",
       "      <td>f</td>\n",
       "      <td>f</td>\n",
       "      <td>strict_14_with_grace_period</td>\n",
       "      <td>t</td>\n",
       "      <td>t</td>\n",
       "      <td>2</td>\n",
       "      <td>2</td>\n",
       "      <td>0</td>\n",
       "      <td>0</td>\n",
       "      <td>0.38</td>\n",
       "    </tr>\n",
       "    <tr>\n",
       "      <th>2</th>\n",
       "      <td>3831</td>\n",
       "      <td>https://www.airbnb.com/rooms/3831</td>\n",
       "      <td>20200408162728</td>\n",
       "      <td>2020-04-11</td>\n",
       "      <td>Cozy Entire Floor of Brownstone</td>\n",
       "      <td>Urban retreat: enjoy 500 s.f. floor in 1899 br...</td>\n",
       "      <td>Greetings!      We own a double-duplex brownst...</td>\n",
       "      <td>Urban retreat: enjoy 500 s.f. floor in 1899 br...</td>\n",
       "      <td>none</td>\n",
       "      <td>Just the right mix of urban center and local n...</td>\n",
       "      <td>...</td>\n",
       "      <td>f</td>\n",
       "      <td>f</td>\n",
       "      <td>moderate</td>\n",
       "      <td>f</td>\n",
       "      <td>f</td>\n",
       "      <td>1</td>\n",
       "      <td>1</td>\n",
       "      <td>0</td>\n",
       "      <td>0</td>\n",
       "      <td>4.68</td>\n",
       "    </tr>\n",
       "    <tr>\n",
       "      <th>3</th>\n",
       "      <td>5099</td>\n",
       "      <td>https://www.airbnb.com/rooms/5099</td>\n",
       "      <td>20200408162728</td>\n",
       "      <td>2020-04-10</td>\n",
       "      <td>Large Cozy 1 BR Apartment In Midtown East</td>\n",
       "      <td>My large 1 bedroom apartment has a true New Yo...</td>\n",
       "      <td>I have a large 1 bedroom apartment centrally l...</td>\n",
       "      <td>My large 1 bedroom apartment has a true New Yo...</td>\n",
       "      <td>none</td>\n",
       "      <td>My neighborhood in Midtown East is called Murr...</td>\n",
       "      <td>...</td>\n",
       "      <td>f</td>\n",
       "      <td>f</td>\n",
       "      <td>moderate</td>\n",
       "      <td>t</td>\n",
       "      <td>t</td>\n",
       "      <td>1</td>\n",
       "      <td>1</td>\n",
       "      <td>0</td>\n",
       "      <td>0</td>\n",
       "      <td>0.58</td>\n",
       "    </tr>\n",
       "    <tr>\n",
       "      <th>4</th>\n",
       "      <td>5121</td>\n",
       "      <td>https://www.airbnb.com/rooms/5121</td>\n",
       "      <td>20200408162728</td>\n",
       "      <td>2020-04-09</td>\n",
       "      <td>BlissArtsSpace!</td>\n",
       "      <td>NaN</td>\n",
       "      <td>HELLO EVERYONE AND THANKS FOR VISITING BLISS A...</td>\n",
       "      <td>HELLO EVERYONE AND THANKS FOR VISITING BLISS A...</td>\n",
       "      <td>none</td>\n",
       "      <td>NaN</td>\n",
       "      <td>...</td>\n",
       "      <td>f</td>\n",
       "      <td>f</td>\n",
       "      <td>strict_14_with_grace_period</td>\n",
       "      <td>f</td>\n",
       "      <td>f</td>\n",
       "      <td>1</td>\n",
       "      <td>0</td>\n",
       "      <td>1</td>\n",
       "      <td>0</td>\n",
       "      <td>0.38</td>\n",
       "    </tr>\n",
       "  </tbody>\n",
       "</table>\n",
       "<p>5 rows × 106 columns</p>\n",
       "</div>"
      ],
      "text/plain": [
       "     id                        listing_url       scrape_id last_scraped  \\\n",
       "0  2060  https://www.airbnb.com/rooms/2060  20200408162728   2020-04-09   \n",
       "1  2595  https://www.airbnb.com/rooms/2595  20200408162728   2020-04-10   \n",
       "2  3831  https://www.airbnb.com/rooms/3831  20200408162728   2020-04-11   \n",
       "3  5099  https://www.airbnb.com/rooms/5099  20200408162728   2020-04-10   \n",
       "4  5121  https://www.airbnb.com/rooms/5121  20200408162728   2020-04-09   \n",
       "\n",
       "                                        name  \\\n",
       "0                                 Modern NYC   \n",
       "1                      Skylit Midtown Castle   \n",
       "2            Cozy Entire Floor of Brownstone   \n",
       "3  Large Cozy 1 BR Apartment In Midtown East   \n",
       "4                            BlissArtsSpace!   \n",
       "\n",
       "                                             summary  \\\n",
       "0                                                NaN   \n",
       "1  Beautiful, spacious skylit studio in the heart...   \n",
       "2  Urban retreat: enjoy 500 s.f. floor in 1899 br...   \n",
       "3  My large 1 bedroom apartment has a true New Yo...   \n",
       "4                                                NaN   \n",
       "\n",
       "                                               space  \\\n",
       "0  Lovely, spacious, sunny 1 BR apartment in 6th ...   \n",
       "1  - Spacious (500+ft²), immaculate and nicely fu...   \n",
       "2  Greetings!      We own a double-duplex brownst...   \n",
       "3  I have a large 1 bedroom apartment centrally l...   \n",
       "4  HELLO EVERYONE AND THANKS FOR VISITING BLISS A...   \n",
       "\n",
       "                                         description experiences_offered  \\\n",
       "0  Lovely, spacious, sunny 1 BR apartment in 6th ...                none   \n",
       "1  Beautiful, spacious skylit studio in the heart...                none   \n",
       "2  Urban retreat: enjoy 500 s.f. floor in 1899 br...                none   \n",
       "3  My large 1 bedroom apartment has a true New Yo...                none   \n",
       "4  HELLO EVERYONE AND THANKS FOR VISITING BLISS A...                none   \n",
       "\n",
       "                               neighborhood_overview  ... instant_bookable  \\\n",
       "0                                                NaN  ...                f   \n",
       "1  Centrally located in the heart of Manhattan ju...  ...                f   \n",
       "2  Just the right mix of urban center and local n...  ...                f   \n",
       "3  My neighborhood in Midtown East is called Murr...  ...                f   \n",
       "4                                                NaN  ...                f   \n",
       "\n",
       "  is_business_travel_ready          cancellation_policy  \\\n",
       "0                        f                     flexible   \n",
       "1                        f  strict_14_with_grace_period   \n",
       "2                        f                     moderate   \n",
       "3                        f                     moderate   \n",
       "4                        f  strict_14_with_grace_period   \n",
       "\n",
       "  require_guest_profile_picture require_guest_phone_verification  \\\n",
       "0                             f                                f   \n",
       "1                             t                                t   \n",
       "2                             f                                f   \n",
       "3                             t                                t   \n",
       "4                             f                                f   \n",
       "\n",
       "   calculated_host_listings_count  \\\n",
       "0                               1   \n",
       "1                               2   \n",
       "2                               1   \n",
       "3                               1   \n",
       "4                               1   \n",
       "\n",
       "   calculated_host_listings_count_entire_homes  \\\n",
       "0                                            0   \n",
       "1                                            2   \n",
       "2                                            1   \n",
       "3                                            1   \n",
       "4                                            0   \n",
       "\n",
       "  calculated_host_listings_count_private_rooms  \\\n",
       "0                                            1   \n",
       "1                                            0   \n",
       "2                                            0   \n",
       "3                                            0   \n",
       "4                                            1   \n",
       "\n",
       "   calculated_host_listings_count_shared_rooms  reviews_per_month  \n",
       "0                                            0               0.01  \n",
       "1                                            0               0.38  \n",
       "2                                            0               4.68  \n",
       "3                                            0               0.58  \n",
       "4                                            0               0.38  \n",
       "\n",
       "[5 rows x 106 columns]"
      ]
     },
     "execution_count": 2,
     "metadata": {},
     "output_type": "execute_result"
    }
   ],
   "source": [
    "data=pd.read_csv(\"listings.csv\", low_memory=False)\n",
    "data.head()"
   ]
  },
  {
   "cell_type": "code",
   "execution_count": 3,
   "metadata": {},
   "outputs": [
    {
     "data": {
      "text/plain": [
       "50378"
      ]
     },
     "execution_count": 3,
     "metadata": {},
     "output_type": "execute_result"
    }
   ],
   "source": [
    "len(data)"
   ]
  },
  {
   "cell_type": "code",
   "execution_count": 4,
   "metadata": {},
   "outputs": [
    {
     "data": {
      "text/html": [
       "<div>\n",
       "<style scoped>\n",
       "    .dataframe tbody tr th:only-of-type {\n",
       "        vertical-align: middle;\n",
       "    }\n",
       "\n",
       "    .dataframe tbody tr th {\n",
       "        vertical-align: top;\n",
       "    }\n",
       "\n",
       "    .dataframe thead th {\n",
       "        text-align: right;\n",
       "    }\n",
       "</style>\n",
       "<table border=\"1\" class=\"dataframe\">\n",
       "  <thead>\n",
       "    <tr style=\"text-align: right;\">\n",
       "      <th></th>\n",
       "      <th>neighbourhood_group_cleansed</th>\n",
       "      <th>neighbourhood_cleansed</th>\n",
       "      <th>zipcode</th>\n",
       "      <th>room_type</th>\n",
       "      <th>accommodates</th>\n",
       "      <th>bedrooms</th>\n",
       "      <th>bathrooms</th>\n",
       "      <th>guests_included</th>\n",
       "      <th>price</th>\n",
       "      <th>extra_people</th>\n",
       "      <th>minimum_nights</th>\n",
       "      <th>maximum_nights</th>\n",
       "      <th>availability_30</th>\n",
       "      <th>cancellation_policy</th>\n",
       "      <th>number_of_reviews</th>\n",
       "      <th>review_scores_rating</th>\n",
       "      <th>longitude</th>\n",
       "      <th>latitude</th>\n",
       "    </tr>\n",
       "  </thead>\n",
       "  <tbody>\n",
       "    <tr>\n",
       "      <th>0</th>\n",
       "      <td>Manhattan</td>\n",
       "      <td>Washington Heights</td>\n",
       "      <td>10040</td>\n",
       "      <td>Private room</td>\n",
       "      <td>2</td>\n",
       "      <td>1.0</td>\n",
       "      <td>NaN</td>\n",
       "      <td>1</td>\n",
       "      <td>$100.00</td>\n",
       "      <td>$0.00</td>\n",
       "      <td>1</td>\n",
       "      <td>730</td>\n",
       "      <td>30</td>\n",
       "      <td>flexible</td>\n",
       "      <td>1</td>\n",
       "      <td>80.0</td>\n",
       "      <td>-73.93790</td>\n",
       "      <td>40.85722</td>\n",
       "    </tr>\n",
       "    <tr>\n",
       "      <th>1</th>\n",
       "      <td>Manhattan</td>\n",
       "      <td>Midtown</td>\n",
       "      <td>10018</td>\n",
       "      <td>Entire home/apt</td>\n",
       "      <td>2</td>\n",
       "      <td>0.0</td>\n",
       "      <td>1.0</td>\n",
       "      <td>1</td>\n",
       "      <td>$225.00</td>\n",
       "      <td>$0.00</td>\n",
       "      <td>3</td>\n",
       "      <td>1125</td>\n",
       "      <td>30</td>\n",
       "      <td>strict_14_with_grace_period</td>\n",
       "      <td>48</td>\n",
       "      <td>94.0</td>\n",
       "      <td>-73.98377</td>\n",
       "      <td>40.75362</td>\n",
       "    </tr>\n",
       "    <tr>\n",
       "      <th>2</th>\n",
       "      <td>Brooklyn</td>\n",
       "      <td>Clinton Hill</td>\n",
       "      <td>11238</td>\n",
       "      <td>Entire home/apt</td>\n",
       "      <td>3</td>\n",
       "      <td>1.0</td>\n",
       "      <td>1.0</td>\n",
       "      <td>1</td>\n",
       "      <td>$89.00</td>\n",
       "      <td>$0.00</td>\n",
       "      <td>1</td>\n",
       "      <td>730</td>\n",
       "      <td>30</td>\n",
       "      <td>moderate</td>\n",
       "      <td>315</td>\n",
       "      <td>89.0</td>\n",
       "      <td>-73.95976</td>\n",
       "      <td>40.68514</td>\n",
       "    </tr>\n",
       "    <tr>\n",
       "      <th>3</th>\n",
       "      <td>Manhattan</td>\n",
       "      <td>Murray Hill</td>\n",
       "      <td>10016</td>\n",
       "      <td>Entire home/apt</td>\n",
       "      <td>2</td>\n",
       "      <td>1.0</td>\n",
       "      <td>1.0</td>\n",
       "      <td>2</td>\n",
       "      <td>$200.00</td>\n",
       "      <td>$100.00</td>\n",
       "      <td>3</td>\n",
       "      <td>21</td>\n",
       "      <td>0</td>\n",
       "      <td>moderate</td>\n",
       "      <td>78</td>\n",
       "      <td>90.0</td>\n",
       "      <td>-73.97500</td>\n",
       "      <td>40.74767</td>\n",
       "    </tr>\n",
       "    <tr>\n",
       "      <th>4</th>\n",
       "      <td>Brooklyn</td>\n",
       "      <td>Bedford-Stuyvesant</td>\n",
       "      <td>11216</td>\n",
       "      <td>Private room</td>\n",
       "      <td>2</td>\n",
       "      <td>1.0</td>\n",
       "      <td>NaN</td>\n",
       "      <td>1</td>\n",
       "      <td>$60.00</td>\n",
       "      <td>$30.00</td>\n",
       "      <td>29</td>\n",
       "      <td>730</td>\n",
       "      <td>30</td>\n",
       "      <td>strict_14_with_grace_period</td>\n",
       "      <td>50</td>\n",
       "      <td>90.0</td>\n",
       "      <td>-73.95596</td>\n",
       "      <td>40.68688</td>\n",
       "    </tr>\n",
       "  </tbody>\n",
       "</table>\n",
       "</div>"
      ],
      "text/plain": [
       "  neighbourhood_group_cleansed neighbourhood_cleansed zipcode  \\\n",
       "0                    Manhattan     Washington Heights   10040   \n",
       "1                    Manhattan                Midtown   10018   \n",
       "2                     Brooklyn           Clinton Hill   11238   \n",
       "3                    Manhattan            Murray Hill   10016   \n",
       "4                     Brooklyn     Bedford-Stuyvesant   11216   \n",
       "\n",
       "         room_type  accommodates  bedrooms  bathrooms  guests_included  \\\n",
       "0     Private room             2       1.0        NaN                1   \n",
       "1  Entire home/apt             2       0.0        1.0                1   \n",
       "2  Entire home/apt             3       1.0        1.0                1   \n",
       "3  Entire home/apt             2       1.0        1.0                2   \n",
       "4     Private room             2       1.0        NaN                1   \n",
       "\n",
       "     price extra_people  minimum_nights  maximum_nights  availability_30  \\\n",
       "0  $100.00        $0.00               1             730               30   \n",
       "1  $225.00        $0.00               3            1125               30   \n",
       "2   $89.00        $0.00               1             730               30   \n",
       "3  $200.00      $100.00               3              21                0   \n",
       "4   $60.00       $30.00              29             730               30   \n",
       "\n",
       "           cancellation_policy  number_of_reviews  review_scores_rating  \\\n",
       "0                     flexible                  1                  80.0   \n",
       "1  strict_14_with_grace_period                 48                  94.0   \n",
       "2                     moderate                315                  89.0   \n",
       "3                     moderate                 78                  90.0   \n",
       "4  strict_14_with_grace_period                 50                  90.0   \n",
       "\n",
       "   longitude  latitude  \n",
       "0  -73.93790  40.85722  \n",
       "1  -73.98377  40.75362  \n",
       "2  -73.95976  40.68514  \n",
       "3  -73.97500  40.74767  \n",
       "4  -73.95596  40.68688  "
      ]
     },
     "execution_count": 4,
     "metadata": {},
     "output_type": "execute_result"
    }
   ],
   "source": [
    "filtered_data=data[[\"neighbourhood_group_cleansed\", \"neighbourhood_cleansed\", \"zipcode\", \"room_type\",\n",
    "                    \"accommodates\", \"bedrooms\", \"bathrooms\", \"guests_included\", \"price\", \"extra_people\",\n",
    "                    \"minimum_nights\", \"maximum_nights\", \"availability_30\", \"cancellation_policy\", \n",
    "                    \"number_of_reviews\", \"review_scores_rating\", \"longitude\", \"latitude\"]]\n",
    "filtered_data.head()"
   ]
  },
  {
   "cell_type": "code",
   "execution_count": 5,
   "metadata": {},
   "outputs": [
    {
     "data": {
      "text/plain": [
       "neighbourhood_group_cleansed        0\n",
       "neighbourhood_cleansed              0\n",
       "zipcode                           440\n",
       "room_type                           0\n",
       "accommodates                        0\n",
       "bedrooms                           97\n",
       "bathrooms                          59\n",
       "guests_included                     0\n",
       "price                               0\n",
       "extra_people                        0\n",
       "minimum_nights                      0\n",
       "maximum_nights                      0\n",
       "availability_30                     0\n",
       "cancellation_policy                 0\n",
       "number_of_reviews                   0\n",
       "review_scores_rating            11681\n",
       "longitude                           0\n",
       "latitude                            0\n",
       "dtype: int64"
      ]
     },
     "execution_count": 5,
     "metadata": {},
     "output_type": "execute_result"
    }
   ],
   "source": [
    "filtered_data.isnull().sum()"
   ]
  },
  {
   "cell_type": "code",
   "execution_count": 6,
   "metadata": {
    "scrolled": true
   },
   "outputs": [
    {
     "data": {
      "text/plain": [
       "0      10704\n",
       "1       5448\n",
       "2       3481\n",
       "3       2559\n",
       "4       2003\n",
       "       ...  \n",
       "560        1\n",
       "496        1\n",
       "368        1\n",
       "463        1\n",
       "383        1\n",
       "Name: number_of_reviews, Length: 434, dtype: int64"
      ]
     },
     "execution_count": 6,
     "metadata": {},
     "output_type": "execute_result"
    }
   ],
   "source": [
    "filtered_data['number_of_reviews'].value_counts()"
   ]
  },
  {
   "cell_type": "code",
   "execution_count": 7,
   "metadata": {},
   "outputs": [
    {
     "name": "stderr",
     "output_type": "stream",
     "text": [
      "C:\\Users\\sveta\\Anaconda3\\envs\\PythonData\\lib\\site-packages\\pandas\\core\\frame.py:3509: SettingWithCopyWarning: \n",
      "A value is trying to be set on a copy of a slice from a DataFrame.\n",
      "Try using .loc[row_indexer,col_indexer] = value instead\n",
      "\n",
      "See the caveats in the documentation: http://pandas.pydata.org/pandas-docs/stable/user_guide/indexing.html#returning-a-view-versus-a-copy\n",
      "  self[k1] = value[k2]\n"
     ]
    }
   ],
   "source": [
    "#using the median value for filling the missing numerical information\n",
    "filtered_data[['review_scores_rating']] = filtered_data[['review_scores_rating']].apply(lambda col: col.fillna(0))\n",
    "filtered_data[['bedrooms']]=filtered_data[['bedrooms']].apply(lambda col: col.fillna(col.median()))\n",
    "filtered_data[['bathrooms']]=filtered_data[['bathrooms']].apply(lambda col: col.fillna(col.median()))"
   ]
  },
  {
   "cell_type": "code",
   "execution_count": 8,
   "metadata": {},
   "outputs": [
    {
     "name": "stderr",
     "output_type": "stream",
     "text": [
      "C:\\Users\\sveta\\Anaconda3\\envs\\PythonData\\lib\\site-packages\\ipykernel_launcher.py:2: SettingWithCopyWarning: \n",
      "A value is trying to be set on a copy of a slice from a DataFrame.\n",
      "Try using .loc[row_indexer,col_indexer] = value instead\n",
      "\n",
      "See the caveats in the documentation: http://pandas.pydata.org/pandas-docs/stable/user_guide/indexing.html#returning-a-view-versus-a-copy\n",
      "  \n",
      "C:\\Users\\sveta\\Anaconda3\\envs\\PythonData\\lib\\site-packages\\ipykernel_launcher.py:3: SettingWithCopyWarning: \n",
      "A value is trying to be set on a copy of a slice from a DataFrame.\n",
      "Try using .loc[row_indexer,col_indexer] = value instead\n",
      "\n",
      "See the caveats in the documentation: http://pandas.pydata.org/pandas-docs/stable/user_guide/indexing.html#returning-a-view-versus-a-copy\n",
      "  This is separate from the ipykernel package so we can avoid doing imports until\n",
      "C:\\Users\\sveta\\Anaconda3\\envs\\PythonData\\lib\\site-packages\\ipykernel_launcher.py:4: SettingWithCopyWarning: \n",
      "A value is trying to be set on a copy of a slice from a DataFrame.\n",
      "Try using .loc[row_indexer,col_indexer] = value instead\n",
      "\n",
      "See the caveats in the documentation: http://pandas.pydata.org/pandas-docs/stable/user_guide/indexing.html#returning-a-view-versus-a-copy\n",
      "  after removing the cwd from sys.path.\n"
     ]
    }
   ],
   "source": [
    "#removing '$' from price column\n",
    "filtered_data['price'] = filtered_data['price'].astype(\"str\")\n",
    "filtered_data['price'] = filtered_data['price'].str.replace('$', '')\n",
    "filtered_data['price'] = pd.to_numeric(filtered_data['price'], errors='coerce')\n",
    "\n",
    "filtered_data=filtered_data.dropna(subset=['price'])\n"
   ]
  },
  {
   "cell_type": "code",
   "execution_count": 9,
   "metadata": {},
   "outputs": [],
   "source": [
    "#removing '$' from extra_people column\n",
    "filtered_data['extra_people'] = filtered_data['extra_people'].astype(\"str\")\n",
    "filtered_data['extra_people'] = filtered_data['extra_people'].str.replace('$', '')\n",
    "filtered_data['extra_people'] = pd.to_numeric(filtered_data['extra_people'], errors='coerce')\n"
   ]
  },
  {
   "cell_type": "code",
   "execution_count": 10,
   "metadata": {},
   "outputs": [],
   "source": [
    "#cleaning values in zipcode column\n",
    "\n",
    "filtered_data[\"zipcode\"].replace({\"NY 10001\": \"10001\"}, inplace=True)\n",
    "filtered_data[\"zipcode\"].replace({\"NY 10002\": \"10002\"}, inplace=True)\n",
    "filtered_data[\"zipcode\"].replace({\"NY 10003\": \"10003\"}, inplace=True)\n",
    "filtered_data[\"zipcode\"].replace({\"NY 10004\": \"10004\"}, inplace=True)\n",
    "filtered_data[\"zipcode\"].replace({\"NY 10005\": \"10005\"}, inplace=True)\n",
    "filtered_data[\"zipcode\"].replace({\"NY 10006\": \"10006\"}, inplace=True)\n",
    "filtered_data[\"zipcode\"].replace({\"NY 10007\": \"10007\"}, inplace=True)\n",
    "filtered_data[\"zipcode\"].replace({\"1009\": \"10009\"}, inplace=True)\n",
    "filtered_data[\"zipcode\"].replace({\"NY 10010\": \"10010\"}, inplace=True)\n",
    "filtered_data[\"zipcode\"].replace({\"NY 10011\": \"10011\"}, inplace=True)\n",
    "filtered_data[\"zipcode\"].replace({\"NY 10012\": \"10012\"}, inplace=True)\n",
    "filtered_data[\"zipcode\"].replace({\"NY 10014\": \"10014\"}, inplace=True)\n",
    "filtered_data[\"zipcode\"].replace({\"NY 10016\": \"10016\"}, inplace=True)\n",
    "filtered_data[\"zipcode\"].replace({\"NY 10017\": \"10017\"}, inplace=True)\n",
    "filtered_data[\"zipcode\"].replace({\"NY 10018\": \"10018\"}, inplace=True)\n",
    "filtered_data[\"zipcode\"].replace({\"NY 10019\": \"10019\"}, inplace=True)\n",
    "filtered_data[\"zipcode\"].replace({\"NY 10022\": \"10022\"}, inplace=True)\n",
    "filtered_data[\"zipcode\"].replace({\"NY 10023\": \"10023\"}, inplace=True)\n",
    "filtered_data[\"zipcode\"].replace({\"NY 10024\": \"10024\"}, inplace=True)\n",
    "filtered_data[\"zipcode\"].replace({\"NY 10028\": \"10028\"}, inplace=True)\n",
    "filtered_data[\"zipcode\"].replace({\" 10036\": \"10036\"}, inplace=True)\n",
    "filtered_data[\"zipcode\"].replace({\"NY 10036\": \"10036\"}, inplace=True)\n",
    "filtered_data[\"zipcode\"].replace({\"NY 10038\": \"10038\"}, inplace=True)\n",
    "filtered_data[\"zipcode\"].replace({\"NY 10065\": \"10065\"}, inplace=True)\n",
    "filtered_data[\"zipcode\"].replace({\"NY 10075\": \"10075\"}, inplace=True)\n",
    "filtered_data[\"zipcode\"].replace({\"NY 10128\": \"10128\"}, inplace=True)\n",
    "filtered_data[\"zipcode\"].replace({\"NY 10280\": \"10280\"}, inplace=True)\n",
    "filtered_data[\"zipcode\"].replace({\" \": \"11104\"}, inplace=True)\n",
    "filtered_data[\"zipcode\"].replace({\"NY 11201\": \"11201\"}, inplace=True)\n",
    "filtered_data[\"zipcode\"].replace({\"NY 11249\": \"11249\"}, inplace=True)\n",
    "filtered_data[\"zipcode\"].replace({\" 11374\": \"11374\"}, inplace=True)\n",
    "filtered_data[\"zipcode\"].replace({\"11385-2308\": \"11385\"}, inplace=True)\n",
    "filtered_data[\"zipcode\"].replace({\"11249\\n11249\": \"11249\"}, inplace=True)\n",
    "filtered_data[\"zipcode\"].replace({\"11103-3233\": \"11103\"}, inplace=True)\n",
    "filtered_data[\"zipcode\"].replace({\"11692-2304\": \"11692\"}, inplace=True)\n",
    "filtered_data[\"zipcode\"].replace({\"11413-3220\": \"11413\"}, inplace=True)"
   ]
  },
  {
   "cell_type": "code",
   "execution_count": 11,
   "metadata": {},
   "outputs": [],
   "source": [
    "#drop all the rows with NaN values\n",
    "filtered_data=filtered_data.dropna()"
   ]
  },
  {
   "cell_type": "code",
   "execution_count": 12,
   "metadata": {},
   "outputs": [],
   "source": [
    "filtered_data=filtered_data.rename(columns={'neighbourhood_cleansed':\"neighbourhood\", \"neighbourhood_group_cleansed\":\"borough\"})"
   ]
  },
  {
   "cell_type": "code",
   "execution_count": 13,
   "metadata": {},
   "outputs": [],
   "source": [
    "filtered_data.to_csv(\"ny_airbnb_data.csv\")"
   ]
  },
  {
   "cell_type": "code",
   "execution_count": 66,
   "metadata": {},
   "outputs": [
    {
     "data": {
      "image/png": "[encoded data removed]",
      "text/plain": [
       "<Figure size 1080x576 with 1 Axes>"
      ]
     },
     "metadata": {
      "needs_background": "light"
     },
     "output_type": "display_data"
    }
   ],
   "source": [
    "plt.figure(figsize=(15,8))\n",
    "sns.distplot(filtered_data['price'], kde=True);\n",
    "plt.savefig(\"price_distribution.png\")"
   ]
  },
  {
   "cell_type": "code",
   "execution_count": 68,
   "metadata": {},
   "outputs": [
    {
     "data": {
      "text/html": [
       "<div>\n",
       "<style scoped>\n",
       "    .dataframe tbody tr th:only-of-type {\n",
       "        vertical-align: middle;\n",
       "    }\n",
       "\n",
       "    .dataframe tbody tr th {\n",
       "        vertical-align: top;\n",
       "    }\n",
       "\n",
       "    .dataframe thead th {\n",
       "        text-align: right;\n",
       "    }\n",
       "</style>\n",
       "<table border=\"1\" class=\"dataframe\">\n",
       "  <thead>\n",
       "    <tr style=\"text-align: right;\">\n",
       "      <th></th>\n",
       "      <th>accommodates</th>\n",
       "      <th>bedrooms</th>\n",
       "      <th>bathrooms</th>\n",
       "      <th>guests_included</th>\n",
       "      <th>price</th>\n",
       "      <th>extra_people</th>\n",
       "      <th>minimum_nights</th>\n",
       "      <th>maximum_nights</th>\n",
       "      <th>availability_30</th>\n",
       "      <th>number_of_reviews</th>\n",
       "      <th>...</th>\n",
       "      <th>11433</th>\n",
       "      <th>11434</th>\n",
       "      <th>11435</th>\n",
       "      <th>11436</th>\n",
       "      <th>11559</th>\n",
       "      <th>11691</th>\n",
       "      <th>11692</th>\n",
       "      <th>11693</th>\n",
       "      <th>11694</th>\n",
       "      <th>91766</th>\n",
       "    </tr>\n",
       "  </thead>\n",
       "  <tbody>\n",
       "    <tr>\n",
       "      <th>count</th>\n",
       "      <td>49526.000000</td>\n",
       "      <td>49526.000000</td>\n",
       "      <td>49526.00000</td>\n",
       "      <td>49526.000000</td>\n",
       "      <td>49526.000000</td>\n",
       "      <td>49526.000000</td>\n",
       "      <td>49526.000000</td>\n",
       "      <td>4.952600e+04</td>\n",
       "      <td>49526.000000</td>\n",
       "      <td>49526.000000</td>\n",
       "      <td>...</td>\n",
       "      <td>49526.000000</td>\n",
       "      <td>49526.000000</td>\n",
       "      <td>49526.000000</td>\n",
       "      <td>49526.000000</td>\n",
       "      <td>49526.000000</td>\n",
       "      <td>49526.000000</td>\n",
       "      <td>49526.000000</td>\n",
       "      <td>49526.000000</td>\n",
       "      <td>49526.000000</td>\n",
       "      <td>49526.000000</td>\n",
       "    </tr>\n",
       "    <tr>\n",
       "      <th>mean</th>\n",
       "      <td>2.835460</td>\n",
       "      <td>1.174959</td>\n",
       "      <td>1.13822</td>\n",
       "      <td>1.505714</td>\n",
       "      <td>138.384485</td>\n",
       "      <td>13.854521</td>\n",
       "      <td>7.720632</td>\n",
       "      <td>8.813232e+04</td>\n",
       "      <td>12.075940</td>\n",
       "      <td>24.929411</td>\n",
       "      <td>...</td>\n",
       "      <td>0.000929</td>\n",
       "      <td>0.004099</td>\n",
       "      <td>0.001575</td>\n",
       "      <td>0.000767</td>\n",
       "      <td>0.000020</td>\n",
       "      <td>0.001171</td>\n",
       "      <td>0.001636</td>\n",
       "      <td>0.001070</td>\n",
       "      <td>0.000182</td>\n",
       "      <td>0.000020</td>\n",
       "    </tr>\n",
       "    <tr>\n",
       "      <th>std</th>\n",
       "      <td>1.823279</td>\n",
       "      <td>0.742548</td>\n",
       "      <td>0.39672</td>\n",
       "      <td>1.134471</td>\n",
       "      <td>112.085641</td>\n",
       "      <td>23.860245</td>\n",
       "      <td>21.300952</td>\n",
       "      <td>1.364716e+07</td>\n",
       "      <td>13.309211</td>\n",
       "      <td>49.070961</td>\n",
       "      <td>...</td>\n",
       "      <td>0.030462</td>\n",
       "      <td>0.063892</td>\n",
       "      <td>0.039655</td>\n",
       "      <td>0.027689</td>\n",
       "      <td>0.004493</td>\n",
       "      <td>0.034202</td>\n",
       "      <td>0.040409</td>\n",
       "      <td>0.032696</td>\n",
       "      <td>0.013479</td>\n",
       "      <td>0.004493</td>\n",
       "    </tr>\n",
       "    <tr>\n",
       "      <th>min</th>\n",
       "      <td>1.000000</td>\n",
       "      <td>0.000000</td>\n",
       "      <td>0.00000</td>\n",
       "      <td>1.000000</td>\n",
       "      <td>0.000000</td>\n",
       "      <td>0.000000</td>\n",
       "      <td>1.000000</td>\n",
       "      <td>1.000000e+00</td>\n",
       "      <td>0.000000</td>\n",
       "      <td>0.000000</td>\n",
       "      <td>...</td>\n",
       "      <td>0.000000</td>\n",
       "      <td>0.000000</td>\n",
       "      <td>0.000000</td>\n",
       "      <td>0.000000</td>\n",
       "      <td>0.000000</td>\n",
       "      <td>0.000000</td>\n",
       "      <td>0.000000</td>\n",
       "      <td>0.000000</td>\n",
       "      <td>0.000000</td>\n",
       "      <td>0.000000</td>\n",
       "    </tr>\n",
       "    <tr>\n",
       "      <th>25%</th>\n",
       "      <td>2.000000</td>\n",
       "      <td>1.000000</td>\n",
       "      <td>1.00000</td>\n",
       "      <td>1.000000</td>\n",
       "      <td>68.000000</td>\n",
       "      <td>0.000000</td>\n",
       "      <td>1.000000</td>\n",
       "      <td>2.900000e+01</td>\n",
       "      <td>0.000000</td>\n",
       "      <td>1.000000</td>\n",
       "      <td>...</td>\n",
       "      <td>0.000000</td>\n",
       "      <td>0.000000</td>\n",
       "      <td>0.000000</td>\n",
       "      <td>0.000000</td>\n",
       "      <td>0.000000</td>\n",
       "      <td>0.000000</td>\n",
       "      <td>0.000000</td>\n",
       "      <td>0.000000</td>\n",
       "      <td>0.000000</td>\n",
       "      <td>0.000000</td>\n",
       "    </tr>\n",
       "    <tr>\n",
       "      <th>50%</th>\n",
       "      <td>2.000000</td>\n",
       "      <td>1.000000</td>\n",
       "      <td>1.00000</td>\n",
       "      <td>1.000000</td>\n",
       "      <td>103.000000</td>\n",
       "      <td>0.000000</td>\n",
       "      <td>3.000000</td>\n",
       "      <td>1.000000e+03</td>\n",
       "      <td>2.000000</td>\n",
       "      <td>5.000000</td>\n",
       "      <td>...</td>\n",
       "      <td>0.000000</td>\n",
       "      <td>0.000000</td>\n",
       "      <td>0.000000</td>\n",
       "      <td>0.000000</td>\n",
       "      <td>0.000000</td>\n",
       "      <td>0.000000</td>\n",
       "      <td>0.000000</td>\n",
       "      <td>0.000000</td>\n",
       "      <td>0.000000</td>\n",
       "      <td>0.000000</td>\n",
       "    </tr>\n",
       "    <tr>\n",
       "      <th>75%</th>\n",
       "      <td>4.000000</td>\n",
       "      <td>1.000000</td>\n",
       "      <td>1.00000</td>\n",
       "      <td>2.000000</td>\n",
       "      <td>175.000000</td>\n",
       "      <td>20.000000</td>\n",
       "      <td>5.000000</td>\n",
       "      <td>1.125000e+03</td>\n",
       "      <td>29.000000</td>\n",
       "      <td>25.000000</td>\n",
       "      <td>...</td>\n",
       "      <td>0.000000</td>\n",
       "      <td>0.000000</td>\n",
       "      <td>0.000000</td>\n",
       "      <td>0.000000</td>\n",
       "      <td>0.000000</td>\n",
       "      <td>0.000000</td>\n",
       "      <td>0.000000</td>\n",
       "      <td>0.000000</td>\n",
       "      <td>0.000000</td>\n",
       "      <td>0.000000</td>\n",
       "    </tr>\n",
       "    <tr>\n",
       "      <th>max</th>\n",
       "      <td>16.000000</td>\n",
       "      <td>21.000000</td>\n",
       "      <td>6.50000</td>\n",
       "      <td>16.000000</td>\n",
       "      <td>999.000000</td>\n",
       "      <td>300.000000</td>\n",
       "      <td>1250.000000</td>\n",
       "      <td>2.147484e+09</td>\n",
       "      <td>30.000000</td>\n",
       "      <td>746.000000</td>\n",
       "      <td>...</td>\n",
       "      <td>1.000000</td>\n",
       "      <td>1.000000</td>\n",
       "      <td>1.000000</td>\n",
       "      <td>1.000000</td>\n",
       "      <td>1.000000</td>\n",
       "      <td>1.000000</td>\n",
       "      <td>1.000000</td>\n",
       "      <td>1.000000</td>\n",
       "      <td>1.000000</td>\n",
       "      <td>1.000000</td>\n",
       "    </tr>\n",
       "  </tbody>\n",
       "</table>\n",
       "<p>8 rows × 436 columns</p>\n",
       "</div>"
      ],
      "text/plain": [
       "       accommodates      bedrooms    bathrooms  guests_included         price  \\\n",
       "count  49526.000000  49526.000000  49526.00000     49526.000000  49526.000000   \n",
       "mean       2.835460      1.174959      1.13822         1.505714    138.384485   \n",
       "std        1.823279      0.742548      0.39672         1.134471    112.085641   \n",
       "min        1.000000      0.000000      0.00000         1.000000      0.000000   \n",
       "25%        2.000000      1.000000      1.00000         1.000000     68.000000   \n",
       "50%        2.000000      1.000000      1.00000         1.000000    103.000000   \n",
       "75%        4.000000      1.000000      1.00000         2.000000    175.000000   \n",
       "max       16.000000     21.000000      6.50000        16.000000    999.000000   \n",
       "\n",
       "       extra_people  minimum_nights  maximum_nights  availability_30  \\\n",
       "count  49526.000000    49526.000000    4.952600e+04     49526.000000   \n",
       "mean      13.854521        7.720632    8.813232e+04        12.075940   \n",
       "std       23.860245       21.300952    1.364716e+07        13.309211   \n",
       "min        0.000000        1.000000    1.000000e+00         0.000000   \n",
       "25%        0.000000        1.000000    2.900000e+01         0.000000   \n",
       "50%        0.000000        3.000000    1.000000e+03         2.000000   \n",
       "75%       20.000000        5.000000    1.125000e+03        29.000000   \n",
       "max      300.000000     1250.000000    2.147484e+09        30.000000   \n",
       "\n",
       "       number_of_reviews  ...         11433         11434         11435  \\\n",
       "count       49526.000000  ...  49526.000000  49526.000000  49526.000000   \n",
       "mean           24.929411  ...      0.000929      0.004099      0.001575   \n",
       "std            49.070961  ...      0.030462      0.063892      0.039655   \n",
       "min             0.000000  ...      0.000000      0.000000      0.000000   \n",
       "25%             1.000000  ...      0.000000      0.000000      0.000000   \n",
       "50%             5.000000  ...      0.000000      0.000000      0.000000   \n",
       "75%            25.000000  ...      0.000000      0.000000      0.000000   \n",
       "max           746.000000  ...      1.000000      1.000000      1.000000   \n",
       "\n",
       "              11436         11559         11691         11692         11693  \\\n",
       "count  49526.000000  49526.000000  49526.000000  49526.000000  49526.000000   \n",
       "mean       0.000767      0.000020      0.001171      0.001636      0.001070   \n",
       "std        0.027689      0.004493      0.034202      0.040409      0.032696   \n",
       "min        0.000000      0.000000      0.000000      0.000000      0.000000   \n",
       "25%        0.000000      0.000000      0.000000      0.000000      0.000000   \n",
       "50%        0.000000      0.000000      0.000000      0.000000      0.000000   \n",
       "75%        0.000000      0.000000      0.000000      0.000000      0.000000   \n",
       "max        1.000000      1.000000      1.000000      1.000000      1.000000   \n",
       "\n",
       "              11694         91766  \n",
       "count  49526.000000  49526.000000  \n",
       "mean       0.000182      0.000020  \n",
       "std        0.013479      0.004493  \n",
       "min        0.000000      0.000000  \n",
       "25%        0.000000      0.000000  \n",
       "50%        0.000000      0.000000  \n",
       "75%        0.000000      0.000000  \n",
       "max        1.000000      1.000000  \n",
       "\n",
       "[8 rows x 436 columns]"
      ]
     },
     "execution_count": 68,
     "metadata": {},
     "output_type": "execute_result"
    }
   ],
   "source": [
    "filtered_data.describe()"
   ]
  },
  {
   "cell_type": "code",
   "execution_count": 15,
   "metadata": {},
   "outputs": [
    {
     "data": {
      "text/plain": [
       "price                   1.000000\n",
       "accommodates            0.519635\n",
       "bedrooms                0.383262\n",
       "guests_included         0.297153\n",
       "bathrooms               0.275869\n",
       "extra_people            0.072431\n",
       "availability_30         0.069182\n",
       "latitude                0.058181\n",
       "minimum_nights          0.024504\n",
       "maximum_nights          0.001936\n",
       "number_of_reviews      -0.047964\n",
       "review_scores_rating   -0.055872\n",
       "longitude              -0.256810\n",
       "Name: price, dtype: float64"
      ]
     },
     "execution_count": 15,
     "metadata": {},
     "output_type": "execute_result"
    }
   ],
   "source": [
    "corrMatrix = filtered_data.corr()\n",
    "corrMatrix['price'].sort_values(ascending=False)"
   ]
  },
  {
   "cell_type": "code",
   "execution_count": 16,
   "metadata": {},
   "outputs": [
    {
     "data": {
      "text/plain": [
       "11211    2123\n",
       "11221    1947\n",
       "11206    1510\n",
       "11216    1363\n",
       "10019    1312\n",
       "         ... \n",
       "11243       1\n",
       "10118       1\n",
       "10278       1\n",
       "10704       1\n",
       "10080       1\n",
       "Name: zipcode, Length: 193, dtype: int64"
      ]
     },
     "execution_count": 16,
     "metadata": {},
     "output_type": "execute_result"
    }
   ],
   "source": [
    "filtered_data['zipcode'].value_counts()"
   ]
  },
  {
   "cell_type": "code",
   "execution_count": 17,
   "metadata": {},
   "outputs": [],
   "source": [
    "one_hot_zipcode = pd.get_dummies(filtered_data.zipcode) \n",
    "one_hot_zipcode=one_hot_zipcode.drop(columns=[\"11211\"])"
   ]
  },
  {
   "cell_type": "code",
   "execution_count": 18,
   "metadata": {},
   "outputs": [
    {
     "data": {
      "text/plain": [
       "count               49526\n",
       "unique                  4\n",
       "top       Entire home/apt\n",
       "freq                25742\n",
       "Name: room_type, dtype: object"
      ]
     },
     "execution_count": 18,
     "metadata": {},
     "output_type": "execute_result"
    }
   ],
   "source": [
    "filtered_data['room_type'].describe()"
   ]
  },
  {
   "cell_type": "code",
   "execution_count": 19,
   "metadata": {},
   "outputs": [],
   "source": [
    "one_hot_room_type = pd.get_dummies(filtered_data.room_type) \n",
    "one_hot_room_type=one_hot_room_type.drop(columns=[\"Entire home/apt\"])"
   ]
  },
  {
   "cell_type": "code",
   "execution_count": 20,
   "metadata": {},
   "outputs": [
    {
     "data": {
      "text/plain": [
       "count                           49526\n",
       "unique                              6\n",
       "top       strict_14_with_grace_period\n",
       "freq                            22393\n",
       "Name: cancellation_policy, dtype: object"
      ]
     },
     "execution_count": 20,
     "metadata": {},
     "output_type": "execute_result"
    }
   ],
   "source": [
    "filtered_data['cancellation_policy'].describe()"
   ]
  },
  {
   "cell_type": "code",
   "execution_count": 21,
   "metadata": {},
   "outputs": [],
   "source": [
    "one_hot_cancellation_policy = pd.get_dummies(filtered_data.cancellation_policy) \n",
    "one_hot_cancellation_policy=one_hot_cancellation_policy.drop(columns=[\"strict_14_with_grace_period\"])"
   ]
  },
  {
   "cell_type": "code",
   "execution_count": 22,
   "metadata": {},
   "outputs": [
    {
     "data": {
      "text/plain": [
       "count            49526\n",
       "unique             222\n",
       "top       Williamsburg\n",
       "freq              3773\n",
       "Name: neighbourhood, dtype: object"
      ]
     },
     "execution_count": 22,
     "metadata": {},
     "output_type": "execute_result"
    }
   ],
   "source": [
    "filtered_data['neighbourhood'].describe()"
   ]
  },
  {
   "cell_type": "code",
   "execution_count": 23,
   "metadata": {},
   "outputs": [],
   "source": [
    "one_hot_neighbourhood = pd.get_dummies(filtered_data.neighbourhood) \n",
    "one_hot_neighbourhood=one_hot_neighbourhood.drop(columns=[\"Williamsburg\"])"
   ]
  },
  {
   "cell_type": "code",
   "execution_count": 24,
   "metadata": {},
   "outputs": [
    {
     "data": {
      "text/plain": [
       "count         49526\n",
       "unique            5\n",
       "top       Manhattan\n",
       "freq          21879\n",
       "Name: borough, dtype: object"
      ]
     },
     "execution_count": 24,
     "metadata": {},
     "output_type": "execute_result"
    }
   ],
   "source": [
    "filtered_data['borough'].describe()"
   ]
  },
  {
   "cell_type": "code",
   "execution_count": 25,
   "metadata": {},
   "outputs": [],
   "source": [
    "one_hot_borough = pd.get_dummies(filtered_data.borough) \n",
    "one_hot_borough=one_hot_borough.drop(columns=[\"Manhattan\"])"
   ]
  },
  {
   "cell_type": "code",
   "execution_count": 26,
   "metadata": {},
   "outputs": [],
   "source": [
    "#removing categorical features \n",
    "filtered_data.drop(['cancellation_policy', 'neighbourhood', 'borough', 'room_type', 'zipcode'],axis=1,inplace=True)"
   ]
  },
  {
   "cell_type": "code",
   "execution_count": 27,
   "metadata": {},
   "outputs": [],
   "source": [
    "#merging one hot encoded features with our filtered_data dataset  \n",
    "filtered_data=pd.concat([filtered_data,one_hot_cancellation_policy,one_hot_borough, one_hot_neighbourhood,one_hot_room_type, one_hot_zipcode],axis=1) "
   ]
  },
  {
   "cell_type": "code",
   "execution_count": 28,
   "metadata": {},
   "outputs": [],
   "source": [
    "filtered_data.drop(['longitude', 'latitude'],axis=1,inplace=True)"
   ]
  },
  {
   "cell_type": "code",
   "execution_count": 30,
   "metadata": {},
   "outputs": [
    {
     "name": "stdout",
     "output_type": "stream",
     "text": [
      "(49526,)\n",
      "(49526, 435)\n"
     ]
    }
   ],
   "source": [
    "#Linear Model\n",
    "y = filtered_data['price']\n",
    "print(y.shape)\n",
    "X = filtered_data.drop(columns=[\"price\"])\n",
    "print(X.shape)"
   ]
  },
  {
   "cell_type": "code",
   "execution_count": 31,
   "metadata": {},
   "outputs": [],
   "source": [
    "X_train, X_test, y_train, y_test = train_test_split(X, y, random_state=1, train_size=0.90)\n"
   ]
  },
  {
   "cell_type": "code",
   "execution_count": 36,
   "metadata": {},
   "outputs": [
    {
     "name": "stdout",
     "output_type": "stream",
     "text": [
      "Training score: 0.5163595792779099\n",
      "Testing score: 0.5283754957313462\n",
      "Mean Absolute Error: 45.65046370329806\n"
     ]
    }
   ],
   "source": [
    "L_model=LinearRegression()\n",
    "L_model.fit(X_train, y_train)\n",
    "print(f\"Training score: {L_model.score(X_train, y_train)}\")\n",
    "print(f\"Testing score: {L_model.score(X_test, y_test)}\")\n",
    "predictions=L_model.predict(X_test)\n",
    "print('Mean Absolute Error:', metrics.mean_absolute_error(y_test, predictions)) "
   ]
  },
  {
   "cell_type": "code",
   "execution_count": 40,
   "metadata": {},
   "outputs": [
    {
     "name": "stdout",
     "output_type": "stream",
     "text": [
      "Training score: 0.6582435648912046\n",
      "Testing score: 0.6039084554628432\n",
      "Mean Absolute Error: 39.89668656256952\n"
     ]
    }
   ],
   "source": [
    "#Light GBM(Gradient Boosting Machines)\n",
    "B_model=LGBMRegressor()\n",
    "B_model.fit(X_train, y_train)\n",
    "print(f\"Training score: {B_model.score(X_train, y_train)}\")\n",
    "print(f\"Testing score: {B_model.score(X_test, y_test)}\")\n",
    "predictions=B_model.predict(X_test)\n",
    "print('Mean Absolute Error:', metrics.mean_absolute_error(y_test, predictions))"
   ]
  },
  {
   "cell_type": "code",
   "execution_count": 41,
   "metadata": {},
   "outputs": [
    {
     "name": "stdout",
     "output_type": "stream",
     "text": [
      "Training score: 0.7433151115376537\n",
      "Testing score: 0.6148789744460471\n",
      "Mean Absolute Error: 39.89668656256952\n"
     ]
    }
   ],
   "source": [
    "model=LGBMRegressor(n_estimators=500, learning_rate=0.05, num_leaves=55)\n",
    "model.fit(X_train, y_train)\n",
    "print(f\"Training score: {model.score(X_train, y_train)}\")\n",
    "print(f\"Testing score: {model.score(X_test, y_test)}\")\n",
    "predictions=B_model.predict(X_test)\n",
    "print('Mean Absolute Error:', metrics.mean_absolute_error(y_test, predictions))"
   ]
  },
  {
   "cell_type": "code",
   "execution_count": 70,
   "metadata": {},
   "outputs": [
    {
     "data": {
      "text/html": [
       "<div>\n",
       "<style scoped>\n",
       "    .dataframe tbody tr th:only-of-type {\n",
       "        vertical-align: middle;\n",
       "    }\n",
       "\n",
       "    .dataframe tbody tr th {\n",
       "        vertical-align: top;\n",
       "    }\n",
       "\n",
       "    .dataframe thead th {\n",
       "        text-align: right;\n",
       "    }\n",
       "</style>\n",
       "<table border=\"1\" class=\"dataframe\">\n",
       "  <thead>\n",
       "    <tr style=\"text-align: right;\">\n",
       "      <th></th>\n",
       "      <th>Actual</th>\n",
       "      <th>Prediction</th>\n",
       "    </tr>\n",
       "  </thead>\n",
       "  <tbody>\n",
       "    <tr>\n",
       "      <th>22848</th>\n",
       "      <td>90.0</td>\n",
       "      <td>124.008864</td>\n",
       "    </tr>\n",
       "    <tr>\n",
       "      <th>24282</th>\n",
       "      <td>70.0</td>\n",
       "      <td>105.801686</td>\n",
       "    </tr>\n",
       "    <tr>\n",
       "      <th>21622</th>\n",
       "      <td>129.0</td>\n",
       "      <td>118.575124</td>\n",
       "    </tr>\n",
       "    <tr>\n",
       "      <th>40266</th>\n",
       "      <td>62.0</td>\n",
       "      <td>42.333717</td>\n",
       "    </tr>\n",
       "    <tr>\n",
       "      <th>11602</th>\n",
       "      <td>200.0</td>\n",
       "      <td>252.597417</td>\n",
       "    </tr>\n",
       "  </tbody>\n",
       "</table>\n",
       "</div>"
      ],
      "text/plain": [
       "       Actual  Prediction\n",
       "22848    90.0  124.008864\n",
       "24282    70.0  105.801686\n",
       "21622   129.0  118.575124\n",
       "40266    62.0   42.333717\n",
       "11602   200.0  252.597417"
      ]
     },
     "execution_count": 70,
     "metadata": {},
     "output_type": "execute_result"
    }
   ],
   "source": [
    "predictions=B_model.predict(X_test)\n",
    "\n",
    "predictions_df=pd.DataFrame({\"Actual\": y_test, \"Prediction\": predictions })\n",
    "predictions_df.head()"
   ]
  },
  {
   "cell_type": "code",
   "execution_count": 71,
   "metadata": {},
   "outputs": [
    {
     "data": {
      "image/png": "[encoded data removed]",
      "text/plain": [
       "<Figure size 720x576 with 1 Axes>"
      ]
     },
     "metadata": {
      "needs_background": "light"
     },
     "output_type": "display_data"
    }
   ],
   "source": [
    "df = predictions_df.head(25)\n",
    "df.plot(kind='bar',figsize=(10,8))\n",
    "plt.grid(which='major', linestyle='-', linewidth='0.5', color='green')\n",
    "plt.grid(which='minor', linestyle=':', linewidth='0.5', color='black')\n",
    "plt.show()"
   ]
  },
  {
   "cell_type": "code",
   "execution_count": 42,
   "metadata": {},
   "outputs": [
    {
     "data": {
      "text/plain": [
       "GradientBoostingRegressor(alpha=0.9, ccp_alpha=0.0, criterion='friedman_mse',\n",
       "                          init=None, learning_rate=0.1, loss='ls', max_depth=3,\n",
       "                          max_features=None, max_leaf_nodes=None,\n",
       "                          min_impurity_decrease=0.0, min_impurity_split=None,\n",
       "                          min_samples_leaf=1, min_samples_split=2,\n",
       "                          min_weight_fraction_leaf=0.0, n_estimators=100,\n",
       "                          n_iter_no_change=None, presort='deprecated',\n",
       "                          random_state=None, subsample=1.0, tol=0.0001,\n",
       "                          validation_fraction=0.1, verbose=0, warm_start=False)"
      ]
     },
     "execution_count": 42,
     "metadata": {},
     "output_type": "execute_result"
    }
   ],
   "source": [
    "#Gradient Boosting Machine for Regression\n",
    "from sklearn.ensemble import GradientBoostingRegressor\n",
    "\n",
    "y = filtered_data['price']\n",
    "X = filtered_data.drop(columns=[\"price\"])\n",
    "\n",
    "X_train, X_test, y_train, y_test = train_test_split(X, y, random_state=1, train_size=0.90)\n",
    "\n",
    "model = GradientBoostingRegressor()\n",
    "model"
   ]
  },
  {
   "cell_type": "code",
   "execution_count": 43,
   "metadata": {},
   "outputs": [
    {
     "data": {
      "text/plain": [
       "0.5463245136991375"
      ]
     },
     "execution_count": 43,
     "metadata": {},
     "output_type": "execute_result"
    }
   ],
   "source": [
    "model.fit(X_train, y_train)\n",
    "model.score(X_test, y_test)"
   ]
  },
  {
   "cell_type": "code",
   "execution_count": 44,
   "metadata": {},
   "outputs": [
    {
     "name": "stdout",
     "output_type": "stream",
     "text": [
      "0.741795420211117\n",
      "0.5985359907598753\n"
     ]
    }
   ],
   "source": [
    "model = GradientBoostingRegressor(learning_rate=0.1, n_estimators=500, subsample=0.4, max_depth=5)\n",
    "model.fit(X_train, y_train)\n",
    "print(model.score(X_train, y_train))\n",
    "print(model.score(X_test, y_test))"
   ]
  },
  {
   "cell_type": "code",
   "execution_count": 45,
   "metadata": {},
   "outputs": [
    {
     "data": {
      "text/plain": [
       "0.6031536580461938"
      ]
     },
     "execution_count": 45,
     "metadata": {},
     "output_type": "execute_result"
    }
   ],
   "source": [
    "from sklearn.experimental import enable_hist_gradient_boosting\n",
    "from sklearn.ensemble import HistGradientBoostingRegressor\n",
    "\n",
    "y = filtered_data['price']\n",
    "X = filtered_data.drop(columns=[\"price\"])\n",
    "\n",
    "model = HistGradientBoostingRegressor()\n",
    "model.fit(X_train, y_train)\n",
    "\n",
    "model.score(X_test, y_test)"
   ]
  },
  {
   "cell_type": "code",
   "execution_count": 46,
   "metadata": {},
   "outputs": [
    {
     "name": "stdout",
     "output_type": "stream",
     "text": [
      "0.7218983535022361\n",
      "0.6027071454361995\n"
     ]
    }
   ],
   "source": [
    "#Gradient Boosting With XGBoost\n",
    "from xgboost import XGBRegressor\n",
    "\n",
    "model = XGBRegressor(objective='reg:squarederror')\n",
    "model\n",
    "\n",
    "model.fit(X_train, y_train)\n",
    "print(model.score(X_train, y_train))\n",
    "print(model.score(X_test, y_test))"
   ]
  },
  {
   "cell_type": "code",
   "execution_count": null,
   "metadata": {},
   "outputs": [],
   "source": [
    "#room type prediction\n",
    "from lightgbm import LGBMClassifier\n",
    "\n",
    "y = filtered_data['room_type']\n",
    "X = filtered_data.drop(columns=[\"room_type\"])\n",
    "X_train, X_test, y_train, y_test = train_test_split(X, y, random_state=1, train_size=0.8)\n",
    "\n",
    "model=LGBMClassifier()\n",
    "model.fit(X_train, y_train)\n",
    "print(f\"Training score: {model.score(X_train, y_train)}\")\n",
    "print(f\"Testing score: {model.score(X_test, y_test)}\")"
   ]
  },
  {
   "cell_type": "code",
   "execution_count": null,
   "metadata": {},
   "outputs": [],
   "source": []
  },
  {
   "cell_type": "code",
   "execution_count": null,
   "metadata": {},
   "outputs": [],
   "source": []
  },
  {
   "cell_type": "code",
   "execution_count": null,
   "metadata": {},
   "outputs": [],
   "source": []
  }
 ],
 "metadata": {
  "kernelspec": {
   "display_name": "Python 3",
   "language": "python",
   "name": "python3"
  },
  "language_info": {
   "codemirror_mode": {
    "name": "ipython",
    "version": 3
   },
   "file_extension": ".py",
   "mimetype": "text/x-python",
   "name": "python",
   "nbconvert_exporter": "python",
   "pygments_lexer": "ipython3",
   "version": "3.7.4"
  }
 },
 "nbformat": 4,
 "nbformat_minor": 2
}
